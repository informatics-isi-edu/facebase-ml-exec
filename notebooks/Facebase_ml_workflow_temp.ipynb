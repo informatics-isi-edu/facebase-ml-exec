{
 "cells": [
  {
   "cell_type": "markdown",
   "metadata": {
    "id": "view-in-github",
    "colab_type": "text"
   },
   "source": [
    "<a href=\"https://colab.research.google.com/github/informatics-isi-edu/eye-ai-tools/blob/main/notebooks/Eye_ai_workflow_temp.ipynb\" target=\"_parent\"><img src=\"https://colab.research.google.com/assets/colab-badge.svg\" alt=\"Open In Colab\"/></a>"
   ]
  },
  {
   "cell_type": "code",
   "execution_count": null,
   "metadata": {
    "id": "qBNfD8vlKgev"
   },
   "outputs": [],
   "source": [
    "# Prerequisites\n",
    "!pip install --upgrade --force pydantic git+https://github.com/fair-research/bdbag git+https://github.com/informatics-isi-edu/deriva-py git+https://github.com/informatics-isi-edu/eye-ai-tools git+https://github.com/informatics-isi-edu/deriva-ml git+https://github.com/informatics-isi-edu/eye-ai-ml\n",
    "import json\n",
    "import os\n",
    "from eye_ai import EyeAI\n",
    "import pandas as pd\n",
    "from pathlib import Path, PurePath\n",
    "import logging\n"
   ]
  },
  {
   "cell_type": "code",
   "execution_count": null,
   "metadata": {
    "id": "qw-bW4bORlqQ"
   },
   "outputs": [],
   "source": [
    "# @title login to DERIVA via Globus Auth\n",
    "\n",
    "DEBUG_MODE = True #@param [\"False\", \"True\"] {type:\"raw\"}\n",
    "catalog_id = \"eye-ai\" #@param\n",
    "DEFAULT_SERVER = 'dev.facebase-ml.org' if DEBUG_MODE else 'www.facebase-ml.org'\n",
    "\n",
    "!deriva-globus-auth-utils login --no-browser --host {DEFAULT_SERVER}\n"
   ]
  },
  {
   "cell_type": "code",
   "execution_count": null,
   "metadata": {
    "id": "A1Cg1lLQiSk4"
   },
   "outputs": [],
   "source": [
    "FB = FaceBaseML(hostname = DEFAULT_SERVER, catalog_id = catalog_id, data_dir=\"test/\")\n",
    "logging.basicConfig(level=logging.INFO, format='%(asctime)s - %(levelname)s - %(message)s', force=True)\n"
   ]
  },
  {
   "cell_type": "code",
   "execution_count": null,
   "outputs": [],
   "source": [],
   "metadata": {
    "collapsed": false
   }
  },
  {
   "cell_type": "code",
   "execution_count": null,
   "metadata": {
    "id": "kCIfOvbUXTGB"
   },
   "outputs": [],
   "source": [
    "# @title Initiate an Execution\n",
    "configuration_records = FB.execution_init(configuration_rid=\"2-5QFA\")\n",
    "configuration_records.model_dump()"
   ]
  },
  {
   "cell_type": "code",
   "source": [
    "# @title Get cropped images from the raw image and svg bounding box\n",
    "cropped_path, output_csv = FB.get_cropped_images(bag_path=str(configuration_records.bag_paths[0]),\n",
    "                                             crop_to_eye=True)\n",
    "\n"
   ],
   "metadata": {
    "id": "4-fvuHzQ-GFk"
   },
   "execution_count": null,
   "outputs": []
  },
  {
   "cell_type": "code",
   "source": [
    "# @title Execute Proecss algorithm (Cropping)\n",
    "from eye_ai_ml.glaucoma.optic_disk_crop import preprocess_and_crop\n",
    "with FB.execution(execution_rid=configuration_records.execution_rid) as exec:\n",
    "  # config\n",
    "  hyper_param = {'rotation_range': -5,\n",
    "                 'width_shift_range': 0.04972485058923855,\n",
    "                 'height_shift_range': 0.03008783098167697,\n",
    "                 'horizontal_flip': True,\n",
    "                 ...}\n",
    "  # Train\n",
    "  model = model.init()\n",
    "  model.train()\n"
   ],
   "metadata": {
    "id": "AOEOElMhFbP4"
   },
   "execution_count": null,
   "outputs": []
  },
  {
   "cell_type": "code",
   "source": [
    "# @title Save Execution Assets (model) and Metadata\n",
    "# save model (to the Execution_Assets folder)\n",
    "model.save(EA.execution_assets_path)\n",
    "\n",
    "# save other model object\n",
    "with open(str(FB.execution_assets_path)+\"hyper_param.json\", \"w\") as f:\n",
    "  json.dump(hyper_param, f, indent=4)\n",
    "\n",
    "# save metadata (to the Execution_Metadata folder)\n",
    "metadata = # any metadata needed to be saved\n",
    "metadata.save_to_EA.execution_metadata_path\n",
    "\n",
    "\n",
    "# Save back to the catalog\n",
    "uploaded_assets = EA.execution_upload(configuration_records.execution_rid)"
   ],
   "metadata": {
    "id": "DNlzYFRSqFp4"
   },
   "execution_count": null,
   "outputs": []
  }
 ],
 "metadata": {
  "colab": {
   "provenance": [],
   "include_colab_link": true
  },
  "kernelspec": {
   "display_name": "Python 3",
   "name": "python3"
  },
  "language_info": {
   "name": "python"
  }
 },
 "nbformat": 4,
 "nbformat_minor": 0
}
