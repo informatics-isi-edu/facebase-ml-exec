{
 "cells": [
  {
   "cell_type": "markdown",
   "metadata": {
    "colab_type": "text",
    "id": "view-in-github"
   },
   "source": [
    "<a href=\"https://colab.research.google.com/github/informatics-isi-edu/facebase-ml-exec/blob/main/notebooks/VGG19_Diagnosis_Predict.ipynb\" target=\"_parent\"><img src=\"https://colab.research.google.com/assets/colab-badge.svg\" alt=\"Open In Colab\"/></a>"
   ]
  },
  {
   "cell_type": "markdown",
   "metadata": {
    "editable": true,
    "id": "VYGZ3N0tChY9",
    "tags": []
   },
   "source": [
    "# \n",
    "\n",
    "This notebook applied a pre-trained model to a dataset specified in the configuration file and uploads the labels to the catalog.  The ROC curve is also calculated and uploaded."
   ]
  },
  {
   "cell_type": "code",
   "execution_count": 1,
   "metadata": {
    "editable": true,
    "id": "EmHeZJ2FChY_",
    "tags": []
   },
   "outputs": [],
   "source": [
    "repo_dir = \"Repos\"   # Set this to be where your github repos are located.\n",
    "%load_ext autoreload\n",
    "%autoreload 2\n",
    "\n",
    "# Update the load path so python can find modules for the model\n",
    "import sys\n",
    "from pathlib import Path\n",
    "sys.path.insert(0, str(Path.home() / repo_dir / \"facebase-ml\"))"
   ]
  },
  {
   "cell_type": "code",
   "execution_count": 2,
   "metadata": {
    "editable": true,
    "id": "iCtEohU8lV-W",
    "jupyter": {
     "is_executing": true
    },
    "tags": []
   },
   "outputs": [
    {
     "name": "stderr",
     "output_type": "stream",
     "text": [
      "2024-04-30 19:14:27.123100: I tensorflow/core/platform/cpu_feature_guard.cc:210] This TensorFlow binary is optimized to use available CPU instructions in performance-critical operations.\n",
      "To enable the following instructions: AVX2 FMA, in other operations, rebuild TensorFlow with the appropriate compiler flags.\n",
      "2024-04-30 19:14:27.878093: W tensorflow/compiler/tf2tensorrt/utils/py_utils.cc:38] TF-TRT Warning: Could not find TensorRT\n"
     ]
    }
   ],
   "source": [
    "import json\n",
    "import os\n",
    "from facebase_ml.facebase_ml import FaceBaseML\n",
    "import pandas as pd\n",
    "from pathlib import Path, PurePath\n",
    "import logging\n",
    "\n",
    "logging.basicConfig(level=logging.INFO, format='%(asctime)s - %(levelname)s - %(message)s', force=True)"
   ]
  },
  {
   "cell_type": "code",
   "execution_count": 3,
   "metadata": {
    "editable": true,
    "id": "qw-bW4bORlqQ",
    "scrolled": true,
    "tags": []
   },
   "outputs": [
    {
     "name": "stderr",
     "output_type": "stream",
     "text": [
      "2024-04-30 19:14:34,112 - INFO - Creating client of type <class 'globus_sdk.services.auth.client.native_client.NativeAppAuthClient'> for service \"auth\"\n",
      "2024-04-30 19:14:34,113 - INFO - Finished initializing AuthLoginClient. client_id='8ef15ba9-2b4a-469c-a163-7fd910c9d111', type(authorizer)=<class 'globus_sdk.authorizers.base.NullAuthorizer'>\n"
     ]
    },
    {
     "name": "stdout",
     "output_type": "stream",
     "text": [
      "You are already logged in.\n"
     ]
    }
   ],
   "source": [
    "from deriva.core.utils.globus_auth_utils import GlobusNativeLogin\n",
    "catalog_id = \"fb-ml\" #@param\n",
    "host = 'ml.facebase.org'\n",
    "\n",
    "\n",
    "gnl = GlobusNativeLogin(host=host)\n",
    "if gnl.is_logged_in([host]):\n",
    "    print(\"You are already logged in.\")\n",
    "else:\n",
    "    gnl.login([host], no_local_server=True, no_browser=True, refresh_tokens=True, update_bdbag_keychain=True)\n",
    "    print(\"Login Successful\")"
   ]
  },
  {
   "cell_type": "markdown",
   "metadata": {
    "editable": true,
    "id": "aW2Qx1MAChZA",
    "tags": []
   },
   "source": [
    "Connect to Eye-AI catalog.  Configure to store data local cache and working directories.  Initialize Eye-AI for pending execution based on the provided configuration file."
   ]
  },
  {
   "cell_type": "code",
   "execution_count": 4,
   "metadata": {
    "editable": true,
    "id": "W4iCSaELChZA",
    "tags": []
   },
   "outputs": [],
   "source": [
    "# Variables to configure the rest of the notebook.\n",
    "\n",
    "cache_dir = '/data'        # Directory in which to cache materialized BDBags for datasets\n",
    "working_dir = '/data'    # Directory in which to place output files for later upload.\n",
    "# Change to your username on the VM\n",
    "\n",
    "configuration_rid=\"58-TW70\"      # Configuration file for this run.  Needs to be changed for each execution."
   ]
  },
  {
   "cell_type": "code",
   "execution_count": 5,
   "metadata": {
    "editable": true,
    "id": "issipT6OChZA",
    "scrolled": true,
    "tags": []
   },
   "outputs": [
    {
     "name": "stderr",
     "output_type": "stream",
     "text": [
      "2024-04-30 19:14:37,429 - INFO - Creating client of type <class 'globus_sdk.services.auth.client.native_client.NativeAppAuthClient'> for service \"auth\"\n",
      "2024-04-30 19:14:37,430 - INFO - Finished initializing AuthLoginClient. client_id='8ef15ba9-2b4a-469c-a163-7fd910c9d111', type(authorizer)=<class 'globus_sdk.authorizers.base.NullAuthorizer'>\n"
     ]
    },
    {
     "name": "stdout",
     "output_type": "stream",
     "text": [
      " Initializing model version: 1.1.0.post1+git.d2faa8b8\n"
     ]
    }
   ],
   "source": [
    "FB = FaceBaseML(hostname = host, catalog_id = catalog_id, cache_dir= cache_dir, working_dir=working_dir)\n",
    "print(f\" Initializing model version: {FB.version}\")"
   ]
  },
  {
   "cell_type": "code",
   "execution_count": null,
   "metadata": {
    "editable": true,
    "id": "kCIfOvbUXTGB",
    "scrolled": true,
    "tags": []
   },
   "outputs": [
    {
     "name": "stderr",
     "output_type": "stream",
     "text": [
      "2024-04-30 20:40:54,916 - INFO - File [/data/lizhiwei/FaceBaseML_working/Execution_Metadata/Execution_Config-MusMorph_train_10pct.json] transfer successful. 0.74 KB transferred. Elapsed time: 0:00:00.000075.\n",
      "2024-04-30 20:40:54,916 - INFO - Verifying MD5 checksum for downloaded file [/data/lizhiwei/FaceBaseML_working/Execution_Metadata/Execution_Config-MusMorph_train_10pct.json]\n",
      "2024-04-30 20:40:54,935 - INFO - Configuration validation successful!\n",
      "2024-04-30 20:40:56,375 - INFO - Checking payload consistency. This can take some time for large bags with many payload files...\n",
      "2024-04-30 20:40:56,899 - INFO - Attempting to resolve remote file references from /data/58-TC6A_dbe4619ed2511dd8fae878901edefa38419604b264c4c5d3ad32e9d3c5f5944c/Dataset_58-TC6A/fetch.txt.\n",
      "2024-04-30 20:41:00,339 - INFO - Attempting GET from URL: https://ml.facebase.org/hatrac/facebase/data/fb3/3-KB0J/3-THKG/img/B6_11.mnc:32AZYH5OOUQW3TJRPROGHPETJQ\n",
      "2024-04-30 20:41:04,640 - INFO - File [/data/58-TC6A_dbe4619ed2511dd8fae878901edefa38419604b264c4c5d3ad32e9d3c5f5944c/Dataset_58-TC6A/data/assets/Image/B6_11.mnc] transfer complete. 161.842 MB transferred at 42.82 MB/second. Elapsed time: 0:00:03.779388.\n",
      "2024-04-30 20:41:04,659 - INFO - Attempting GET from URL: https://ml.facebase.org/hatrac/facebase/data/fb3/3-KB0J/3-THKG/img/landmark/B6_11_Cranium_Landmarks.tag:OFKMXMAKXV6DV5LZ75UHLR2OPI\n",
      "2024-04-30 20:41:04,882 - INFO - File [/data/58-TC6A_dbe4619ed2511dd8fae878901edefa38419604b264c4c5d3ad32e9d3c5f5944c/Dataset_58-TC6A/data/assets/Image/B6_11_Cranium_Landmarks.tag] transfer complete. 67.194 KB transferred. Elapsed time: 0:00:00.000270.\n",
      "2024-04-30 20:41:04,897 - INFO - Attempting GET from URL: https://ml.facebase.org/hatrac/facebase/data/fb3/3-KB0J/3-THKG/img/landmark/B6_11_Endocast_Landmarks.tag:SKOSG47FO6QAZNHKEKJBJBEU7I\n",
      "2024-04-30 20:41:05,136 - INFO - File [/data/58-TC6A_dbe4619ed2511dd8fae878901edefa38419604b264c4c5d3ad32e9d3c5f5944c/Dataset_58-TC6A/data/assets/Image/B6_11_Endocast_Landmarks.tag] transfer complete. 29.140 KB transferred. Elapsed time: 0:00:00.000335.\n",
      "2024-04-30 20:41:05,153 - INFO - Attempting GET from URL: https://ml.facebase.org/hatrac/facebase/data/fb3/3-KB0J/3-THKG/img/landmark/B6_11_Mandible_Landmarks.tag:ZPZ5J76S2BNWMDLX3D6RAANGJE\n",
      "2024-04-30 20:41:05,334 - INFO - File [/data/58-TC6A_dbe4619ed2511dd8fae878901edefa38419604b264c4c5d3ad32e9d3c5f5944c/Dataset_58-TC6A/data/assets/Image/B6_11_Mandible_Landmarks.tag] transfer complete. 36.073 KB transferred. Elapsed time: 0:00:00.000233.\n",
      "2024-04-30 20:41:05,349 - INFO - Attempting GET from URL: https://ml.facebase.org/hatrac/facebase/data/fb3/3-KB0J/3-THKG/img/segmentations/B6_11_Segs.mnc:RZJTV3WGC6W72QYUFGQDACKRWM\n",
      "2024-04-30 20:41:05,543 - INFO - File [/data/58-TC6A_dbe4619ed2511dd8fae878901edefa38419604b264c4c5d3ad32e9d3c5f5944c/Dataset_58-TC6A/data/assets/Image/B6_11_Segs.mnc] transfer complete. 2.252 MB transferred. Elapsed time: 0:00:00.007286.\n",
      "2024-04-30 20:41:05,558 - INFO - Attempting GET from URL: https://ml.facebase.org/hatrac/facebase/data/fb3/3-KB0J/3-THHC/img/B6_13.mnc:OC7YS6BO4XFSEG6BRMP6KQE7TY\n",
      "2024-04-30 20:41:08,342 - INFO - File [/data/58-TC6A_dbe4619ed2511dd8fae878901edefa38419604b264c4c5d3ad32e9d3c5f5944c/Dataset_58-TC6A/data/assets/Image/B6_13.mnc] transfer complete. 210.317 MB transferred at 84.02 MB/second. Elapsed time: 0:00:02.503110.\n",
      "2024-04-30 20:41:08,373 - INFO - Attempting GET from URL: https://ml.facebase.org/hatrac/facebase/data/fb3/3-KB0J/3-THHC/img/landmark/B6_13_Cranium_Landmarks.tag:U6JMGVPLWJQUZQRFJPPNURTJGA\n",
      "2024-04-30 20:41:08,428 - INFO - File [/data/58-TC6A_dbe4619ed2511dd8fae878901edefa38419604b264c4c5d3ad32e9d3c5f5944c/Dataset_58-TC6A/data/assets/Image/B6_13_Cranium_Landmarks.tag] transfer complete. 67.268 KB transferred. Elapsed time: 0:00:00.000297.\n",
      "2024-04-30 20:41:08,447 - INFO - Attempting GET from URL: https://ml.facebase.org/hatrac/facebase/data/fb3/3-KB0J/3-THHC/img/landmark/B6_13_Endocast_Landmarks.tag:DAPMGRQ7E3O4B6LORJDPZUZSAA\n",
      "2024-04-30 20:41:08,503 - INFO - File [/data/58-TC6A_dbe4619ed2511dd8fae878901edefa38419604b264c4c5d3ad32e9d3c5f5944c/Dataset_58-TC6A/data/assets/Image/B6_13_Endocast_Landmarks.tag] transfer complete. 29.153 KB transferred. Elapsed time: 0:00:00.000226.\n",
      "2024-04-30 20:41:08,523 - INFO - Attempting GET from URL: https://ml.facebase.org/hatrac/facebase/data/fb3/3-KB0J/3-THHC/img/landmark/B6_13_Mandible_Landmarks.tag:FPWACDFTUCZU4D5PRJLR4VTSUM\n",
      "2024-04-30 20:41:08,601 - INFO - File [/data/58-TC6A_dbe4619ed2511dd8fae878901edefa38419604b264c4c5d3ad32e9d3c5f5944c/Dataset_58-TC6A/data/assets/Image/B6_13_Mandible_Landmarks.tag] transfer complete. 36.035 KB transferred. Elapsed time: 0:00:00.000188.\n",
      "2024-04-30 20:41:08,625 - INFO - Attempting GET from URL: https://ml.facebase.org/hatrac/facebase/data/fb3/3-KB0J/3-THHC/img/segmentations/B6_13_Segs.mnc:7MPMJPUHZMM5ZMEWELTZQOLTLM\n",
      "2024-04-30 20:41:08,841 - INFO - File [/data/58-TC6A_dbe4619ed2511dd8fae878901edefa38419604b264c4c5d3ad32e9d3c5f5944c/Dataset_58-TC6A/data/assets/Image/B6_13_Segs.mnc] transfer complete. 2.769 MB transferred. Elapsed time: 0:00:00.009539.\n",
      "2024-04-30 20:41:08,859 - INFO - Attempting GET from URL: https://ml.facebase.org/hatrac/facebase/data/fb3/3-KB0W/3-TJM8/img/BA0100.mnc:6GWQJ5VSWAHSP66PMC3L34LEDA\n",
      "2024-04-30 20:41:12,489 - INFO - File [/data/58-TC6A_dbe4619ed2511dd8fae878901edefa38419604b264c4c5d3ad32e9d3c5f5944c/Dataset_58-TC6A/data/assets/Image/BA0100.mnc] transfer complete. 249.221 MB transferred at 72.88 MB/second. Elapsed time: 0:00:03.419800.\n",
      "2024-04-30 20:41:12,521 - INFO - Attempting GET from URL: https://ml.facebase.org/hatrac/facebase/data/fb3/3-JZ9G/3-T772/img/BA065.mnc:NKA5HUTCSCTWPBLPVBOL5IRYWA\n",
      "2024-04-30 20:41:17,123 - INFO - File [/data/58-TC6A_dbe4619ed2511dd8fae878901edefa38419604b264c4c5d3ad32e9d3c5f5944c/Dataset_58-TC6A/data/assets/Image/BA065.mnc] transfer complete. 242.344 MB transferred at 57.14 MB/second. Elapsed time: 0:00:04.241040.\n",
      "2024-04-30 20:41:17,141 - INFO - Attempting GET from URL: https://ml.facebase.org/hatrac/facebase/data/fb3/3-JZ9G/3-T772/img/landmark/BA065_Cranium_Landmarks.tag:Y4VQ5ZKS7FZTAV3ETL7LYOF26U\n",
      "2024-04-30 20:41:17,347 - INFO - File [/data/58-TC6A_dbe4619ed2511dd8fae878901edefa38419604b264c4c5d3ad32e9d3c5f5944c/Dataset_58-TC6A/data/assets/Image/BA065_Cranium_Landmarks.tag] transfer complete. 67.222 KB transferred. Elapsed time: 0:00:00.000275.\n",
      "2024-04-30 20:41:17,361 - INFO - Attempting GET from URL: https://ml.facebase.org/hatrac/facebase/data/fb3/3-JZ9G/3-T772/img/landmark/BA065_Endocast_Landmarks.tag:2G5LJO6RC3KI35VJJ262JLE26Q\n",
      "2024-04-30 20:41:17,553 - INFO - File [/data/58-TC6A_dbe4619ed2511dd8fae878901edefa38419604b264c4c5d3ad32e9d3c5f5944c/Dataset_58-TC6A/data/assets/Image/BA065_Endocast_Landmarks.tag] transfer complete. 29.141 KB transferred. Elapsed time: 0:00:00.000208.\n",
      "2024-04-30 20:41:17,566 - INFO - Attempting GET from URL: https://ml.facebase.org/hatrac/facebase/data/fb3/3-JZ9G/3-T772/img/landmark/BA065_Mandible_Landmarks.tag:RTR54AKSFC6M4HUBDDCYALGY6A\n",
      "2024-04-30 20:41:17,714 - INFO - File [/data/58-TC6A_dbe4619ed2511dd8fae878901edefa38419604b264c4c5d3ad32e9d3c5f5944c/Dataset_58-TC6A/data/assets/Image/BA065_Mandible_Landmarks.tag] transfer complete. 36.046 KB transferred. Elapsed time: 0:00:00.000213.\n",
      "2024-04-30 20:41:17,728 - INFO - Attempting GET from URL: https://ml.facebase.org/hatrac/facebase/data/fb3/3-JZ9G/3-T772/img/segmentations/BA065_Segs.mnc:WAV5VLTRJMLTNMRHY57TQK6U5U\n",
      "2024-04-30 20:41:17,882 - INFO - File [/data/58-TC6A_dbe4619ed2511dd8fae878901edefa38419604b264c4c5d3ad32e9d3c5f5944c/Dataset_58-TC6A/data/assets/Image/BA065_Segs.mnc] transfer complete. 2.553 MB transferred. Elapsed time: 0:00:00.007529.\n",
      "2024-04-30 20:41:17,895 - INFO - Attempting GET from URL: https://ml.facebase.org/hatrac/facebase/data/fb3/3-JZ9G/3-T6YR/img/BA068.mnc:WWWELGUMDKWSGNHYEZILBKLI3I\n",
      "2024-04-30 20:41:21,861 - INFO - File [/data/58-TC6A_dbe4619ed2511dd8fae878901edefa38419604b264c4c5d3ad32e9d3c5f5944c/Dataset_58-TC6A/data/assets/Image/BA068.mnc] transfer complete. 266.991 MB transferred at 71.64 MB/second. Elapsed time: 0:00:03.727064.\n",
      "2024-04-30 20:41:21,880 - INFO - Attempting GET from URL: https://ml.facebase.org/hatrac/facebase/data/fb3/3-JZ9G/3-T6YR/img/landmark/BA068_Cranium_Landmarks.tag:I5367PBWXUOR56HV26VW2C2ZSE\n",
      "2024-04-30 20:41:21,929 - INFO - File [/data/58-TC6A_dbe4619ed2511dd8fae878901edefa38419604b264c4c5d3ad32e9d3c5f5944c/Dataset_58-TC6A/data/assets/Image/BA068_Cranium_Landmarks.tag] transfer complete. 67.242 KB transferred. Elapsed time: 0:00:00.000284.\n",
      "2024-04-30 20:41:21,943 - INFO - Attempting GET from URL: https://ml.facebase.org/hatrac/facebase/data/fb3/3-JZ9G/3-T6YR/img/landmark/BA068_Endocast_Landmarks.tag:OSECETPKGFSTXNWFBNFEBSNVGA\n",
      "2024-04-30 20:41:22,037 - INFO - File [/data/58-TC6A_dbe4619ed2511dd8fae878901edefa38419604b264c4c5d3ad32e9d3c5f5944c/Dataset_58-TC6A/data/assets/Image/BA068_Endocast_Landmarks.tag] transfer complete. 29.128 KB transferred. Elapsed time: 0:00:00.000221.\n",
      "2024-04-30 20:41:22,055 - INFO - Attempting GET from URL: https://ml.facebase.org/hatrac/facebase/data/fb3/3-JZ9G/3-T6YR/img/landmark/BA068_Mandible_Landmarks.tag:RRKNDZQYOY2H4UNME6BUQW3S3M\n",
      "2024-04-30 20:41:22,138 - INFO - File [/data/58-TC6A_dbe4619ed2511dd8fae878901edefa38419604b264c4c5d3ad32e9d3c5f5944c/Dataset_58-TC6A/data/assets/Image/BA068_Mandible_Landmarks.tag] transfer complete. 36.054 KB transferred. Elapsed time: 0:00:00.000192.\n",
      "2024-04-30 20:41:22,155 - INFO - Attempting GET from URL: https://ml.facebase.org/hatrac/facebase/data/fb3/3-JZ9G/3-T6YR/img/segmentations/BA068_Segs.mnc:53LD5FAFHVVUM6GLYKABEESRPE\n",
      "2024-04-30 20:41:22,352 - INFO - File [/data/58-TC6A_dbe4619ed2511dd8fae878901edefa38419604b264c4c5d3ad32e9d3c5f5944c/Dataset_58-TC6A/data/assets/Image/BA068_Segs.mnc] transfer complete. 2.491 MB transferred. Elapsed time: 0:00:00.008301.\n",
      "2024-04-30 20:41:22,366 - INFO - Attempting GET from URL: https://ml.facebase.org/hatrac/facebase/data/fb3/3-JZ9G/3-T724/img/BA083.mnc:GG6P2YMBIPQRDBLM35M2QQD7FI\n",
      "2024-04-30 20:41:26,343 - INFO - File [/data/58-TC6A_dbe4619ed2511dd8fae878901edefa38419604b264c4c5d3ad32e9d3c5f5944c/Dataset_58-TC6A/data/assets/Image/BA083.mnc] transfer complete. 207.643 MB transferred at 56.16 MB/second. Elapsed time: 0:00:03.697423.\n",
      "2024-04-30 20:41:26,363 - INFO - Attempting GET from URL: https://ml.facebase.org/hatrac/facebase/data/fb3/3-JZ9G/3-T724/img/landmark/BA083_Cranium_Landmarks.tag:XSUY7CJN6V7NCKDKBOCHGCF6ZA\n",
      "2024-04-30 20:41:26,420 - INFO - File [/data/58-TC6A_dbe4619ed2511dd8fae878901edefa38419604b264c4c5d3ad32e9d3c5f5944c/Dataset_58-TC6A/data/assets/Image/BA083_Cranium_Landmarks.tag] transfer complete. 67.236 KB transferred. Elapsed time: 0:00:00.000321.\n",
      "2024-04-30 20:41:26,434 - INFO - Attempting GET from URL: https://ml.facebase.org/hatrac/facebase/data/fb3/3-JZ9G/3-T724/img/landmark/BA083_Endocast_Landmarks.tag:JRRMLNIFCO5R7FAO6AJYDMRI3I\n",
      "2024-04-30 20:41:26,483 - INFO - File [/data/58-TC6A_dbe4619ed2511dd8fae878901edefa38419604b264c4c5d3ad32e9d3c5f5944c/Dataset_58-TC6A/data/assets/Image/BA083_Endocast_Landmarks.tag] transfer complete. 29.125 KB transferred. Elapsed time: 0:00:00.000326.\n",
      "2024-04-30 20:41:26,497 - INFO - Attempting GET from URL: https://ml.facebase.org/hatrac/facebase/data/fb3/3-JZ9G/3-T724/img/landmark/BA083_Mandible_Landmarks.tag:N6VUR26NTHPQQI2AL4NTU7UWXY\n",
      "2024-04-30 20:41:26,571 - INFO - File [/data/58-TC6A_dbe4619ed2511dd8fae878901edefa38419604b264c4c5d3ad32e9d3c5f5944c/Dataset_58-TC6A/data/assets/Image/BA083_Mandible_Landmarks.tag] transfer complete. 36.068 KB transferred. Elapsed time: 0:00:00.000228.\n",
      "2024-04-30 20:41:26,585 - INFO - Attempting GET from URL: https://ml.facebase.org/hatrac/facebase/data/fb3/3-JZ9G/3-T724/img/segmentations/BA083_Segs.mnc:A7YSHX3GFJVIFF66CEN2NYAFLY\n",
      "2024-04-30 20:41:26,743 - INFO - File [/data/58-TC6A_dbe4619ed2511dd8fae878901edefa38419604b264c4c5d3ad32e9d3c5f5944c/Dataset_58-TC6A/data/assets/Image/BA083_Segs.mnc] transfer complete. 2.140 MB transferred. Elapsed time: 0:00:00.007101.\n",
      "2024-04-30 20:41:26,758 - INFO - Attempting GET from URL: https://ml.facebase.org/hatrac/facebase/data/fb3/3-JZ9G/3-T6VC/img/BA096.mnc:63NCMWI2V3XIRAU74TWVB5DWUM\n",
      "2024-04-30 20:41:30,128 - INFO - File [/data/58-TC6A_dbe4619ed2511dd8fae878901edefa38419604b264c4c5d3ad32e9d3c5f5944c/Dataset_58-TC6A/data/assets/Image/BA096.mnc] transfer complete. 227.025 MB transferred at 74.61 MB/second. Elapsed time: 0:00:03.042716.\n",
      "2024-04-30 20:41:30,149 - INFO - Attempting GET from URL: https://ml.facebase.org/hatrac/facebase/data/fb3/3-JZ9G/3-T6VC/img/landmark/BA096_Cranium_Landmarks.tag:DJR3DYGC7AFHRFINBFPG273HUU\n",
      "2024-04-30 20:41:30,205 - INFO - File [/data/58-TC6A_dbe4619ed2511dd8fae878901edefa38419604b264c4c5d3ad32e9d3c5f5944c/Dataset_58-TC6A/data/assets/Image/BA096_Cranium_Landmarks.tag] transfer complete. 67.199 KB transferred. Elapsed time: 0:00:00.000362.\n",
      "2024-04-30 20:41:30,248 - INFO - Attempting GET from URL: https://ml.facebase.org/hatrac/facebase/data/fb3/3-JZ9G/3-T6VC/img/landmark/BA096_Endocast_Landmarks.tag:UFFRO67ENOKKVCGYVUYWU5N2PA\n",
      "2024-04-30 20:41:30,386 - INFO - File [/data/58-TC6A_dbe4619ed2511dd8fae878901edefa38419604b264c4c5d3ad32e9d3c5f5944c/Dataset_58-TC6A/data/assets/Image/BA096_Endocast_Landmarks.tag] transfer complete. 29.141 KB transferred. Elapsed time: 0:00:00.000345.\n",
      "2024-04-30 20:41:30,406 - INFO - Attempting GET from URL: https://ml.facebase.org/hatrac/facebase/data/fb3/3-JZ9G/3-T6VC/img/landmark/BA096_Mandible_Landmarks.tag:AC6NB2SVQXEDUMJMDHVEBAJSZ4\n",
      "2024-04-30 20:41:30,506 - INFO - File [/data/58-TC6A_dbe4619ed2511dd8fae878901edefa38419604b264c4c5d3ad32e9d3c5f5944c/Dataset_58-TC6A/data/assets/Image/BA096_Mandible_Landmarks.tag] transfer complete. 36.034 KB transferred. Elapsed time: 0:00:00.000201.\n",
      "2024-04-30 20:41:30,519 - INFO - Attempting GET from URL: https://ml.facebase.org/hatrac/facebase/data/fb3/3-JZ9G/3-T6VC/img/segmentations/BA096_Segs.mnc:BNEOYEMDBT3BGHNERFXOM5U5LI\n",
      "2024-04-30 20:41:30,674 - INFO - File [/data/58-TC6A_dbe4619ed2511dd8fae878901edefa38419604b264c4c5d3ad32e9d3c5f5944c/Dataset_58-TC6A/data/assets/Image/BA096_Segs.mnc] transfer complete. 2.216 MB transferred. Elapsed time: 0:00:00.007677.\n",
      "2024-04-30 20:41:30,690 - INFO - Attempting GET from URL: https://ml.facebase.org/hatrac/facebase/data/fb3/3-JZ9G/3-T72W/img/BA101.mnc:QWNXHROVFDOKRHLUF5NOYCQANU\n",
      "2024-04-30 20:41:34,711 - INFO - File [/data/58-TC6A_dbe4619ed2511dd8fae878901edefa38419604b264c4c5d3ad32e9d3c5f5944c/Dataset_58-TC6A/data/assets/Image/BA101.mnc] transfer complete. 244.583 MB transferred at 64.36 MB/second. Elapsed time: 0:00:03.799955.\n",
      "2024-04-30 20:41:34,726 - INFO - Attempting GET from URL: https://ml.facebase.org/hatrac/facebase/data/fb3/3-JZ9G/3-T72W/img/landmark/BA101_Cranium_Landmarks.tag:ZG7WRFFX6JYE4WW5UGJ576L5PA\n",
      "2024-04-30 20:41:34,789 - INFO - File [/data/58-TC6A_dbe4619ed2511dd8fae878901edefa38419604b264c4c5d3ad32e9d3c5f5944c/Dataset_58-TC6A/data/assets/Image/BA101_Cranium_Landmarks.tag] transfer complete. 67.228 KB transferred. Elapsed time: 0:00:00.000277.\n",
      "2024-04-30 20:41:34,804 - INFO - Attempting GET from URL: https://ml.facebase.org/hatrac/facebase/data/fb3/3-JZ9G/3-T72W/img/landmark/BA101_Endocast_Landmarks.tag:MNBN53V6ME7MAH3SH3BDFCBWXU\n",
      "2024-04-30 20:41:34,874 - INFO - File [/data/58-TC6A_dbe4619ed2511dd8fae878901edefa38419604b264c4c5d3ad32e9d3c5f5944c/Dataset_58-TC6A/data/assets/Image/BA101_Endocast_Landmarks.tag] transfer complete. 29.142 KB transferred. Elapsed time: 0:00:00.000239.\n",
      "2024-04-30 20:41:34,888 - INFO - Attempting GET from URL: https://ml.facebase.org/hatrac/facebase/data/fb3/3-JZ9G/3-T72W/img/landmark/BA101_Mandible_Landmarks.tag:QK3W3A4TSWAN5IJVPN5PFOQGCM\n",
      "2024-04-30 20:41:34,976 - INFO - File [/data/58-TC6A_dbe4619ed2511dd8fae878901edefa38419604b264c4c5d3ad32e9d3c5f5944c/Dataset_58-TC6A/data/assets/Image/BA101_Mandible_Landmarks.tag] transfer complete. 36.048 KB transferred. Elapsed time: 0:00:00.000212.\n",
      "2024-04-30 20:41:34,990 - INFO - Attempting GET from URL: https://ml.facebase.org/hatrac/facebase/data/fb3/3-JZ9G/3-T72W/img/segmentations/BA101_Segs.mnc:GSGCFXMQCFAJYAOIURX5HTUOCA\n",
      "2024-04-30 20:41:35,132 - INFO - File [/data/58-TC6A_dbe4619ed2511dd8fae878901edefa38419604b264c4c5d3ad32e9d3c5f5944c/Dataset_58-TC6A/data/assets/Image/BA101_Segs.mnc] transfer complete. 2.298 MB transferred. Elapsed time: 0:00:00.008101.\n",
      "2024-04-30 20:41:35,148 - INFO - Attempting GET from URL: https://ml.facebase.org/hatrac/facebase/data/fb3/3-JZ9G/3-T764/img/BA119.mnc:GSSWVBFXFSZ66AQRCF6F6MB37I\n",
      "2024-04-30 20:41:38,235 - INFO - File [/data/58-TC6A_dbe4619ed2511dd8fae878901edefa38419604b264c4c5d3ad32e9d3c5f5944c/Dataset_58-TC6A/data/assets/Image/BA119.mnc] transfer complete. 215.476 MB transferred at 74.96 MB/second. Elapsed time: 0:00:02.874667.\n",
      "2024-04-30 20:41:38,257 - INFO - Attempting GET from URL: https://ml.facebase.org/hatrac/facebase/data/fb3/3-JZ9G/3-T764/img/landmark/BA119_Cranium_Landmarks.tag:E35RLDI64BSDJLOUL526CRB3X4\n",
      "2024-04-30 20:41:38,318 - INFO - File [/data/58-TC6A_dbe4619ed2511dd8fae878901edefa38419604b264c4c5d3ad32e9d3c5f5944c/Dataset_58-TC6A/data/assets/Image/BA119_Cranium_Landmarks.tag] transfer complete. 67.221 KB transferred. Elapsed time: 0:00:00.000284.\n",
      "2024-04-30 20:41:38,333 - INFO - Attempting GET from URL: https://ml.facebase.org/hatrac/facebase/data/fb3/3-JZ9G/3-T764/img/landmark/BA119_Endocast_Landmarks.tag:MWHNGKIIAMLAFX4QFNWLWQYYAA\n",
      "2024-04-30 20:41:38,418 - INFO - File [/data/58-TC6A_dbe4619ed2511dd8fae878901edefa38419604b264c4c5d3ad32e9d3c5f5944c/Dataset_58-TC6A/data/assets/Image/BA119_Endocast_Landmarks.tag] transfer complete. 29.130 KB transferred. Elapsed time: 0:00:00.000351.\n",
      "2024-04-30 20:41:38,461 - INFO - Attempting GET from URL: https://ml.facebase.org/hatrac/facebase/data/fb3/3-JZ9G/3-T764/img/landmark/BA119_Mandible_Landmarks.tag:2VYBZSEVMXFXNOI4VOAXUOGGNM\n",
      "2024-04-30 20:41:38,584 - INFO - File [/data/58-TC6A_dbe4619ed2511dd8fae878901edefa38419604b264c4c5d3ad32e9d3c5f5944c/Dataset_58-TC6A/data/assets/Image/BA119_Mandible_Landmarks.tag] transfer complete. 36.046 KB transferred. Elapsed time: 0:00:00.000209.\n",
      "2024-04-30 20:41:38,597 - INFO - Attempting GET from URL: https://ml.facebase.org/hatrac/facebase/data/fb3/3-JZ9G/3-T764/img/segmentations/BA119_Segs.mnc:IHQ3NODAYNVWJUQPFXKQPDOBY4\n",
      "2024-04-30 20:41:38,860 - INFO - File [/data/58-TC6A_dbe4619ed2511dd8fae878901edefa38419604b264c4c5d3ad32e9d3c5f5944c/Dataset_58-TC6A/data/assets/Image/BA119_Segs.mnc] transfer complete. 2.207 MB transferred. Elapsed time: 0:00:00.007204.\n",
      "2024-04-30 20:41:38,878 - INFO - Attempting GET from URL: https://ml.facebase.org/hatrac/facebase/data/fb3/3-JZ9G/3-T6WY/img/BA121.mnc:PD4CI2X3PXMTCDVNWHABUYSJZU\n",
      "2024-04-30 20:41:43,041 - INFO - File [/data/58-TC6A_dbe4619ed2511dd8fae878901edefa38419604b264c4c5d3ad32e9d3c5f5944c/Dataset_58-TC6A/data/assets/Image/BA121.mnc] transfer complete. 235.417 MB transferred at 59.98 MB/second. Elapsed time: 0:00:03.924849.\n",
      "2024-04-30 20:41:43,059 - INFO - Attempting GET from URL: https://ml.facebase.org/hatrac/facebase/data/fb3/3-JZ9G/3-T6WY/img/landmark/BA121_Cranium_Landmarks.tag:REQLHGC5U2UAM42GXBKE7YSAME\n",
      "2024-04-30 20:41:43,153 - INFO - File [/data/58-TC6A_dbe4619ed2511dd8fae878901edefa38419604b264c4c5d3ad32e9d3c5f5944c/Dataset_58-TC6A/data/assets/Image/BA121_Cranium_Landmarks.tag] transfer complete. 67.232 KB transferred. Elapsed time: 0:00:00.000559.\n",
      "2024-04-30 20:41:43,169 - INFO - Attempting GET from URL: https://ml.facebase.org/hatrac/facebase/data/fb3/3-JZ9G/3-T6WY/img/landmark/BA121_Endocast_Landmarks.tag:CDHCHIXGWG3EZAWIYNUGZSKHVE\n",
      "2024-04-30 20:41:43,231 - INFO - File [/data/58-TC6A_dbe4619ed2511dd8fae878901edefa38419604b264c4c5d3ad32e9d3c5f5944c/Dataset_58-TC6A/data/assets/Image/BA121_Endocast_Landmarks.tag] transfer complete. 29.123 KB transferred. Elapsed time: 0:00:00.000176.\n",
      "2024-04-30 20:41:43,251 - INFO - Attempting GET from URL: https://ml.facebase.org/hatrac/facebase/data/fb3/3-JZ9G/3-T6WY/img/landmark/BA121_Mandible_Landmarks.tag:PYUYKV7XTB6PVKPVZ42ZS25RAY\n",
      "2024-04-30 20:41:43,310 - INFO - File [/data/58-TC6A_dbe4619ed2511dd8fae878901edefa38419604b264c4c5d3ad32e9d3c5f5944c/Dataset_58-TC6A/data/assets/Image/BA121_Mandible_Landmarks.tag] transfer complete. 36.055 KB transferred. Elapsed time: 0:00:00.000191.\n",
      "2024-04-30 20:41:43,325 - INFO - Attempting GET from URL: https://ml.facebase.org/hatrac/facebase/data/fb3/3-JZ9G/3-T6WY/img/segmentations/BA121_Segs.mnc:HRPMPS2UHZHWGJ46NBUJFLRXIE\n",
      "2024-04-30 20:41:43,448 - INFO - File [/data/58-TC6A_dbe4619ed2511dd8fae878901edefa38419604b264c4c5d3ad32e9d3c5f5944c/Dataset_58-TC6A/data/assets/Image/BA121_Segs.mnc] transfer complete. 2.372 MB transferred. Elapsed time: 0:00:00.008049.\n",
      "2024-04-30 20:41:43,464 - INFO - Attempting GET from URL: https://ml.facebase.org/hatrac/facebase/data/fb3/3-JZ9G/3-T6X0/img/BA122.mnc:7E7S34LAFRB7KUVKO4IMBMZAWQ\n",
      "2024-04-30 20:41:47,807 - INFO - File [/data/58-TC6A_dbe4619ed2511dd8fae878901edefa38419604b264c4c5d3ad32e9d3c5f5944c/Dataset_58-TC6A/data/assets/Image/BA122.mnc] transfer complete. 221.694 MB transferred at 53.70 MB/second. Elapsed time: 0:00:04.128274.\n",
      "2024-04-30 20:41:47,829 - INFO - Attempting GET from URL: https://ml.facebase.org/hatrac/facebase/data/fb3/3-JZ9G/3-T6X0/img/landmark/BA122_Cranium_Landmarks.tag:ONXTWVD2DDKUQMGT76EAGKNYUU\n",
      "2024-04-30 20:41:47,911 - INFO - File [/data/58-TC6A_dbe4619ed2511dd8fae878901edefa38419604b264c4c5d3ad32e9d3c5f5944c/Dataset_58-TC6A/data/assets/Image/BA122_Cranium_Landmarks.tag] transfer complete. 67.190 KB transferred. Elapsed time: 0:00:00.000265.\n",
      "2024-04-30 20:41:47,927 - INFO - Attempting GET from URL: https://ml.facebase.org/hatrac/facebase/data/fb3/3-JZ9G/3-T6X0/img/landmark/BA122_Endocast_Landmarks.tag:5426PHAKDP5VGE5JRASFLJJP5U\n",
      "2024-04-30 20:41:47,982 - INFO - File [/data/58-TC6A_dbe4619ed2511dd8fae878901edefa38419604b264c4c5d3ad32e9d3c5f5944c/Dataset_58-TC6A/data/assets/Image/BA122_Endocast_Landmarks.tag] transfer complete. 29.130 KB transferred. Elapsed time: 0:00:00.000175.\n",
      "2024-04-30 20:41:47,996 - INFO - Attempting GET from URL: https://ml.facebase.org/hatrac/facebase/data/fb3/3-JZ9G/3-T6X0/img/landmark/BA122_Mandible_Landmarks.tag:JWPP6GDOMLPZPAH3OP3JOJBURQ\n",
      "2024-04-30 20:41:48,058 - INFO - File [/data/58-TC6A_dbe4619ed2511dd8fae878901edefa38419604b264c4c5d3ad32e9d3c5f5944c/Dataset_58-TC6A/data/assets/Image/BA122_Mandible_Landmarks.tag] transfer complete. 36.048 KB transferred. Elapsed time: 0:00:00.000196.\n",
      "2024-04-30 20:41:48,072 - INFO - Attempting GET from URL: https://ml.facebase.org/hatrac/facebase/data/fb3/3-JZ9G/3-T6X0/img/segmentations/BA122_Segs.mnc:U6H56COJSZ6W6WEHCL2KNFATZE\n",
      "2024-04-30 20:41:48,227 - INFO - File [/data/58-TC6A_dbe4619ed2511dd8fae878901edefa38419604b264c4c5d3ad32e9d3c5f5944c/Dataset_58-TC6A/data/assets/Image/BA122_Segs.mnc] transfer complete. 2.333 MB transferred. Elapsed time: 0:00:00.007671.\n",
      "2024-04-30 20:41:48,243 - INFO - Attempting GET from URL: https://ml.facebase.org/hatrac/facebase/data/fb3/3-JZ9G/3-T6XA/img/BA144.mnc:N35MCBHKY6ROXCHUKPWWXV2VU4\n",
      "2024-04-30 20:41:52,775 - INFO - File [/data/58-TC6A_dbe4619ed2511dd8fae878901edefa38419604b264c4c5d3ad32e9d3c5f5944c/Dataset_58-TC6A/data/assets/Image/BA144.mnc] transfer complete. 278.310 MB transferred at 66.88 MB/second. Elapsed time: 0:00:04.161219.\n",
      "2024-04-30 20:41:52,799 - INFO - Attempting GET from URL: https://ml.facebase.org/hatrac/facebase/data/fb3/3-JZ9G/3-T6XA/img/landmark/BA144_Cranium_Landmarks.tag:6P427XUKBPBINPP5TDAFDDMO4A\n",
      "2024-04-30 20:41:52,864 - INFO - File [/data/58-TC6A_dbe4619ed2511dd8fae878901edefa38419604b264c4c5d3ad32e9d3c5f5944c/Dataset_58-TC6A/data/assets/Image/BA144_Cranium_Landmarks.tag] transfer complete. 67.212 KB transferred. Elapsed time: 0:00:00.000468.\n",
      "2024-04-30 20:41:52,880 - INFO - Attempting GET from URL: https://ml.facebase.org/hatrac/facebase/data/fb3/3-JZ9G/3-T6XA/img/landmark/BA144_Endocast_Landmarks.tag:4OXXVN5BNEFKLPBOLX5Y5RTKFY\n",
      "2024-04-30 20:41:52,944 - INFO - File [/data/58-TC6A_dbe4619ed2511dd8fae878901edefa38419604b264c4c5d3ad32e9d3c5f5944c/Dataset_58-TC6A/data/assets/Image/BA144_Endocast_Landmarks.tag] transfer complete. 29.125 KB transferred. Elapsed time: 0:00:00.000176.\n",
      "2024-04-30 20:41:52,961 - INFO - Attempting GET from URL: https://ml.facebase.org/hatrac/facebase/data/fb3/3-JZ9G/3-T6XA/img/landmark/BA144_Mandible_Landmarks.tag:DAVIDGCKEBEHYIZQA7JZS5FDQ4\n",
      "2024-04-30 20:41:53,048 - INFO - File [/data/58-TC6A_dbe4619ed2511dd8fae878901edefa38419604b264c4c5d3ad32e9d3c5f5944c/Dataset_58-TC6A/data/assets/Image/BA144_Mandible_Landmarks.tag] transfer complete. 36.073 KB transferred. Elapsed time: 0:00:00.000334.\n",
      "2024-04-30 20:41:53,066 - INFO - Attempting GET from URL: https://ml.facebase.org/hatrac/facebase/data/fb3/3-JZ9G/3-T6XA/img/segmentations/BA144_Segs.mnc:C7UZRFJPB2VH23G7UKEA6FXV5I\n",
      "2024-04-30 20:41:53,240 - INFO - File [/data/58-TC6A_dbe4619ed2511dd8fae878901edefa38419604b264c4c5d3ad32e9d3c5f5944c/Dataset_58-TC6A/data/assets/Image/BA144_Segs.mnc] transfer complete. 2.393 MB transferred. Elapsed time: 0:00:00.009314.\n",
      "2024-04-30 20:41:53,257 - INFO - Attempting GET from URL: https://ml.facebase.org/hatrac/facebase/data/fb3/3-JZ9G/3-T76W/img/BA215.mnc:D2SQEPHYUKGG7EYLWD2THTAP64\n",
      "2024-04-30 20:41:56,242 - INFO - File [/data/58-TC6A_dbe4619ed2511dd8fae878901edefa38419604b264c4c5d3ad32e9d3c5f5944c/Dataset_58-TC6A/data/assets/Image/BA215.mnc] transfer complete. 190.534 MB transferred at 71.17 MB/second. Elapsed time: 0:00:02.677310.\n",
      "2024-04-30 20:41:56,269 - INFO - Attempting GET from URL: https://ml.facebase.org/hatrac/facebase/data/fb3/3-JZ9G/3-T76W/img/landmark/BA215_Cranium_Landmarks.tag:Y367PHKN5GRZ5APPYWZHEGOOPE\n",
      "2024-04-30 20:41:56,393 - INFO - File [/data/58-TC6A_dbe4619ed2511dd8fae878901edefa38419604b264c4c5d3ad32e9d3c5f5944c/Dataset_58-TC6A/data/assets/Image/BA215_Cranium_Landmarks.tag] transfer complete. 67.197 KB transferred. Elapsed time: 0:00:00.000283.\n",
      "2024-04-30 20:41:56,407 - INFO - Attempting GET from URL: https://ml.facebase.org/hatrac/facebase/data/fb3/3-JZ9G/3-T76W/img/landmark/BA215_Endocast_Landmarks.tag:ELMWGJ4MMA5ZR4FK5CC7X5I5SU\n",
      "2024-04-30 20:41:56,467 - INFO - File [/data/58-TC6A_dbe4619ed2511dd8fae878901edefa38419604b264c4c5d3ad32e9d3c5f5944c/Dataset_58-TC6A/data/assets/Image/BA215_Endocast_Landmarks.tag] transfer complete. 29.149 KB transferred. Elapsed time: 0:00:00.000181.\n",
      "2024-04-30 20:41:56,482 - INFO - Attempting GET from URL: https://ml.facebase.org/hatrac/facebase/data/fb3/3-JZ9G/3-T76W/img/landmark/BA215_Mandible_Landmarks.tag:SOAI36H3BOD7EHPEOUYSFR5OTM\n",
      "2024-04-30 20:41:56,558 - INFO - File [/data/58-TC6A_dbe4619ed2511dd8fae878901edefa38419604b264c4c5d3ad32e9d3c5f5944c/Dataset_58-TC6A/data/assets/Image/BA215_Mandible_Landmarks.tag] transfer complete. 36.048 KB transferred. Elapsed time: 0:00:00.000204.\n",
      "2024-04-30 20:41:56,571 - INFO - Attempting GET from URL: https://ml.facebase.org/hatrac/facebase/data/fb3/3-JZ9G/3-T76W/img/segmentations/BA215_Segs.mnc:TNZ2UNFXUBQUCK6TXRFKANHPYE\n",
      "2024-04-30 20:41:56,742 - INFO - File [/data/58-TC6A_dbe4619ed2511dd8fae878901edefa38419604b264c4c5d3ad32e9d3c5f5944c/Dataset_58-TC6A/data/assets/Image/BA215_Segs.mnc] transfer complete. 2.226 MB transferred. Elapsed time: 0:00:00.011923.\n",
      "2024-04-30 20:41:56,758 - INFO - Attempting GET from URL: https://ml.facebase.org/hatrac/facebase/data/fb3/3-JZ9G/3-T6SC/img/BA225.mnc:WKVMA7EAWSGUZJ3S4JP7K3CXQU\n"
     ]
    }
   ],
   "source": [
    "# @title Initiate an Execution\n",
    "configuration_records = FB.execution_init(configuration_rid=configuration_rid)\n",
    "input_dataset = configuration_records.bag_paths[0] # Assumes that the configuration file only specifies one dataset.\n",
    "configuration_records.model_dump()"
   ]
  },
  {
   "cell_type": "code",
   "execution_count": null,
   "metadata": {},
   "outputs": [],
   "source": [
    "train_base_dir = configuration_records.bag_paths[0]\n",
    "valid_base_dir = configuration_records.bag_paths[1]\n",
    "test_base_dir = configuration_records.bag_paths[2]\n",
    "\n",
    "biosample_filename = 'data/biosample.csv'\n",
    "genotype_filename = 'data/genotype.csv'\n",
    "# output_filename = 'data/mapped_file.csv'\n",
    "\n",
    "final_df, mapped_file = FB.join_and_save_csv(train_base_dir, biosample_filename, genotype_filename, output_filename) #  does it output files?"
   ]
  },
  {
   "cell_type": "markdown",
   "metadata": {
    "editable": true,
    "id": "zi8M9eVhChZA",
    "tags": []
   },
   "source": [
    "Algorithm was trained on cropped images, so take the raw images and bounding boxes and apply, storing the results in the working directory."
   ]
  },
  {
   "cell_type": "markdown",
   "metadata": {
    "editable": true,
    "id": "UBIaFJ1fChZB",
    "tags": []
   },
   "source": [
    "Import the actual model code and then run against the input dataset specified in the configuration file.  "
   ]
  },
  {
   "cell_type": "code",
   "execution_count": null,
   "metadata": {
    "editable": true,
    "id": "ayzxADdKChZB",
    "tags": []
   },
   "outputs": [],
   "source": [
    "# @title Execute Proecss algorithm (Test model)\n",
    "from facebase_ml_tools.models.some_file import #some model\n",
    "\n",
    "with FB.execution(execution_rid=configuration_records.execution_rid) as exec:\n",
    "  output_path = FB.execution_assets_path/Path(\"Model_Prediction\")\n"
   ]
  },
  {
   "cell_type": "code",
   "execution_count": null,
   "metadata": {
    "editable": true,
    "id": "hra5M6G8-dh9",
    "tags": []
   },
   "outputs": [],
   "source": [
    "# @title Plot ROC.\n"
   ]
  },
  {
   "cell_type": "markdown",
   "metadata": {
    "editable": true,
    "id": "rG-AvXsKChZB",
    "tags": []
   },
   "source": [
    "Add the new lables to the catalog using the provided diagnosis tage for this execution.  Also upload any additional assets that were produced by this execution.."
   ]
  },
  {
   "cell_type": "code",
   "execution_count": null,
   "metadata": {
    "id": "MUQMPGKjChZC"
   },
   "outputs": [],
   "source": [
    "# @title Save Diagnosis\n"
   ]
  },
  {
   "cell_type": "code",
   "execution_count": null,
   "metadata": {
    "id": "o5GBoz6QChZC"
   },
   "outputs": [],
   "source": [
    "# @title Save Execution Assets (model) and Metadata\n",
    "uploaded_assets = FB.execution_upload(configuration_records.execution_rid, False)\n"
   ]
  },
  {
   "cell_type": "code",
   "execution_count": null,
   "metadata": {
    "id": "sGkBEiKHChZC"
   },
   "outputs": [],
   "source": []
  }
 ],
 "metadata": {
  "colab": {
   "include_colab_link": true,
   "provenance": []
  },
  "kernelspec": {
   "display_name": "My Tensorflow",
   "language": "python",
   "name": "my-tensorflow"
  },
  "language_info": {
   "codemirror_mode": {
    "name": "ipython",
    "version": 3
   },
   "file_extension": ".py",
   "mimetype": "text/x-python",
   "name": "python",
   "nbconvert_exporter": "python",
   "pygments_lexer": "ipython3",
   "version": "3.10.14"
  }
 },
 "nbformat": 4,
 "nbformat_minor": 4
}
