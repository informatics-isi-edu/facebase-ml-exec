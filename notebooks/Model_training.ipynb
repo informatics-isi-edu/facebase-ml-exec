{
 "cells": [
  {
   "cell_type": "code",
   "execution_count": 9,
   "id": "a3f5fc2f-09d7-44a8-9e7c-c2d4e3c6b8e7",
   "metadata": {},
   "outputs": [],
   "source": [
    "from DatasetManager import *\n",
    "from model import *\n",
    "from utils import *\n",
    "\n",
    "import os\n",
    "import numpy as np\n",
    "import pandas as pd\n",
    "import matplotlib.pyplot as plt\n",
    "from tensorflow.keras.callbacks import EarlyStopping, ModelCheckpoint\n",
    "from tensorflow.keras.models import load_model\n"
   ]
  },
  {
   "cell_type": "code",
   "execution_count": null,
   "id": "6ccc67df-8046-4320-aadd-7c84067f68b5",
   "metadata": {},
   "outputs": [],
   "source": [
    "# Check available GPUs\n",
    "gpus = tf.config.list_physical_devices('GPU')\n",
    "if gpus:\n",
    "    try:\n",
    "        for gpu in gpus:\n",
    "            tf.config.experimental.set_memory_growth(gpu, True)\n",
    "        logical_gpus = tf.config.list_logical_devices('GPU')\n",
    "        print(f\"{len(gpus)} Physical GPUs, {len(logical_gpus)} Logical GPUs\")\n",
    "    except RuntimeError as e:\n",
    "        # Memory growth must be set before GPUs have been initialized\n",
    "        print(e)\n",
    "else:\n",
    "    print(\"No GPU devices found.\")"
   ]
  },
  {
   "cell_type": "code",
   "execution_count": 10,
   "id": "ef01a5d0-ddcb-4c3b-a572-10bb5de108e0",
   "metadata": {},
   "outputs": [],
   "source": [
    "base_dir = os.getcwd()\n",
    "biosample_filename = 'biosample.csv'\n",
    "genotype_filename = 'genotype.csv'\n",
    "output_filename = 'mapped_file.csv'\n",
    "final_df, mapped_file = join_and_save_csv(base_dir, biosample_filename, genotype_filename, output_filename)"
   ]
  },
  {
   "cell_type": "code",
   "execution_count": 11,
   "id": "0d631b68-7906-4184-bd11-a6d40fc9b11d",
   "metadata": {},
   "outputs": [
    {
     "data": {
      "text/html": [
       "<div>\n",
       "<style scoped>\n",
       "    .dataframe tbody tr th:only-of-type {\n",
       "        vertical-align: middle;\n",
       "    }\n",
       "\n",
       "    .dataframe tbody tr th {\n",
       "        vertical-align: top;\n",
       "    }\n",
       "\n",
       "    .dataframe thead th {\n",
       "        text-align: right;\n",
       "    }\n",
       "</style>\n",
       "<table border=\"1\" class=\"dataframe\">\n",
       "  <thead>\n",
       "    <tr style=\"text-align: right;\">\n",
       "      <th></th>\n",
       "      <th>Biosample</th>\n",
       "      <th>genotype</th>\n",
       "      <th>Experimental_Group</th>\n",
       "    </tr>\n",
       "  </thead>\n",
       "  <tbody>\n",
       "    <tr>\n",
       "      <th>0</th>\n",
       "      <td>1</td>\n",
       "      <td>Spry4+/+</td>\n",
       "      <td>Control</td>\n",
       "    </tr>\n",
       "    <tr>\n",
       "      <th>1</th>\n",
       "      <td>10000</td>\n",
       "      <td>Spry4+/+</td>\n",
       "      <td>Control</td>\n",
       "    </tr>\n",
       "    <tr>\n",
       "      <th>2</th>\n",
       "      <td>1135</td>\n",
       "      <td>Spry4+/+</td>\n",
       "      <td>Control</td>\n",
       "    </tr>\n",
       "    <tr>\n",
       "      <th>3</th>\n",
       "      <td>1138</td>\n",
       "      <td>Spry4+/+</td>\n",
       "      <td>Control</td>\n",
       "    </tr>\n",
       "    <tr>\n",
       "      <th>4</th>\n",
       "      <td>1124</td>\n",
       "      <td>Spry2+/+</td>\n",
       "      <td>Control</td>\n",
       "    </tr>\n",
       "    <tr>\n",
       "      <th>5</th>\n",
       "      <td>1125</td>\n",
       "      <td>Spry2+/+</td>\n",
       "      <td>Control</td>\n",
       "    </tr>\n",
       "    <tr>\n",
       "      <th>6</th>\n",
       "      <td>1126</td>\n",
       "      <td>Spry2+/+</td>\n",
       "      <td>Control</td>\n",
       "    </tr>\n",
       "    <tr>\n",
       "      <th>7</th>\n",
       "      <td>113</td>\n",
       "      <td>Spry2+/-</td>\n",
       "      <td>Experiment</td>\n",
       "    </tr>\n",
       "    <tr>\n",
       "      <th>8</th>\n",
       "      <td>1176</td>\n",
       "      <td>Spry2+/-</td>\n",
       "      <td>Experiment</td>\n",
       "    </tr>\n",
       "    <tr>\n",
       "      <th>9</th>\n",
       "      <td>1177</td>\n",
       "      <td>Spry2+/-</td>\n",
       "      <td>Experiment</td>\n",
       "    </tr>\n",
       "  </tbody>\n",
       "</table>\n",
       "</div>"
      ],
      "text/plain": [
       "   Biosample  genotype Experimental_Group\n",
       "0          1  Spry4+/+            Control\n",
       "1      10000  Spry4+/+            Control\n",
       "2       1135  Spry4+/+            Control\n",
       "3       1138  Spry4+/+            Control\n",
       "4       1124  Spry2+/+            Control\n",
       "5       1125  Spry2+/+            Control\n",
       "6       1126  Spry2+/+            Control\n",
       "7        113  Spry2+/-         Experiment\n",
       "8       1176  Spry2+/-         Experiment\n",
       "9       1177  Spry2+/-         Experiment"
      ]
     },
     "execution_count": 11,
     "metadata": {},
     "output_type": "execute_result"
    }
   ],
   "source": [
    "final_df"
   ]
  },
  {
   "cell_type": "code",
   "execution_count": 12,
   "id": "823ddff0-77d5-4648-824f-c2fba24a7090",
   "metadata": {},
   "outputs": [
    {
     "data": {
      "text/plain": [
       "'Musimages/ml_dataset/data/mapped_file.csv'"
      ]
     },
     "execution_count": 12,
     "metadata": {},
     "output_type": "execute_result"
    }
   ],
   "source": [
    "mapped_file"
   ]
  },
  {
   "cell_type": "code",
   "execution_count": 3,
   "id": "558f3ce4-2978-420d-95fa-4a740f091e2a",
   "metadata": {},
   "outputs": [],
   "source": [
    "# Prepare datasets\n",
    "base_dir = os.getcwd()\n",
    "dataset_manager = DatasetManager(base_dir)\n",
    "\n",
    "# Dictionary to hold paths to CSV files and their corresponding directories\n",
    "csv_paths = {\n",
    "    'train': ('data/mapped_file.csv', 'train'),\n",
    "    'val': ('validation.csv', 'val'),\n",
    "    'test': ('test.csv', 'test')\n",
    "}\n",
    "\n",
    "# Dictionary to store datasets for train, validation, and test\n",
    "datasets = {}\n",
    "\n",
    "# Augmentation settings for each dataset\n",
    "augmentation_types = {\n",
    "    'train': None,   # For example, applying 'rotation' or 'brightness' augmentation\n",
    "    'val': None,  \n",
    "    'test': None     # No augmentation for testing data\n",
    "}\n",
    "\n",
    "\n",
    "for key, (csv_file, folder) in csv_paths.items():\n",
    "    image_paths, labels = dataset_manager.load_images_and_labels(csv_file, folder)\n",
    "    datasets[key] = dataset_manager.prepare_dataset(\n",
    "        image_paths, \n",
    "        labels, \n",
    "        batch_size=6, \n",
    "        shuffle=(key == 'train'), \n",
    "        augment_type=augmentation_types[key]\n",
    "    )\n",
    "\n",
    "train_dataset = datasets['train']\n",
    "validation_dataset = datasets['val']\n",
    "test_dataset = datasets['test']"
   ]
  },
  {
   "cell_type": "code",
   "execution_count": 4,
   "id": "b90099d7-aa38-4355-a81e-8ec0bae536a5",
   "metadata": {},
   "outputs": [
    {
     "name": "stderr",
     "output_type": "stream",
     "text": [
      "/opt/anaconda3/lib/python3.11/site-packages/nibabel/minc2.py:68: UserWarning: Invalid spacing declaration: b'xspace'; assuming regular\n",
      "  warnings.warn(f'Invalid spacing declaration: {spacing}; assuming regular')\n"
     ]
    },
    {
     "name": "stdout",
     "output_type": "stream",
     "text": [
      "Images shape: (6, 256, 256, 256, 1)\n",
      "Labels shape: (6,)\n",
      "Images dtype: <dtype: 'float32'>\n",
      "Labels dtype: <dtype: 'int32'>\n"
     ]
    },
    {
     "name": "stderr",
     "output_type": "stream",
     "text": [
      "2024-04-23 18:18:31.425992: W tensorflow/core/framework/local_rendezvous.cc:404] Local rendezvous is aborting with status: OUT_OF_RANGE: End of sequence\n"
     ]
    }
   ],
   "source": [
    "#test if dataset shapes are correct\n",
    "for images, labels in test_dataset.take(1):  # Taking just one batch for demonstration\n",
    "    print(\"Images shape:\", images.shape)  # Should be (batch_size, 256, 256, 256, 1)\n",
    "    print(\"Labels shape:\", labels.shape)  # Should be (batch_size,)\n",
    "    print(\"Images dtype:\", images.dtype)  # Should be float32\n",
    "    print(\"Labels dtype:\", labels.dtype)  # Should be int32 or similar depending on how labels are processed\n"
   ]
  },
  {
   "cell_type": "code",
   "execution_count": 5,
   "id": "33e12378-951e-4ae8-af0c-79fd3168aa2b",
   "metadata": {},
   "outputs": [
    {
     "name": "stderr",
     "output_type": "stream",
     "text": [
      "/opt/anaconda3/lib/python3.11/site-packages/keras/src/layers/convolutional/base_conv.py:99: UserWarning: Do not pass an `input_shape`/`input_dim` argument to a layer. When using Sequential models, prefer using an `Input(shape)` object as the first layer in the model instead.\n",
      "  super().__init__(\n"
     ]
    }
   ],
   "source": [
    "model_manager = ModelManager()\n"
   ]
  },
  {
   "cell_type": "code",
   "execution_count": 6,
   "id": "1c8ab72c-ef6c-49c4-bbb0-aa9d14ded599",
   "metadata": {},
   "outputs": [
    {
     "name": "stdout",
     "output_type": "stream",
     "text": [
      "Epoch 1/10\n"
     ]
    },
    {
     "name": "stderr",
     "output_type": "stream",
     "text": [
      "2024-04-23 18:19:29.271230: I tensorflow/core/kernels/data/shuffle_dataset_op.cc:450] ShuffleDatasetV3:2: Filling up shuffle buffer (this may take a while): 1 of 10\n",
      "2024-04-23 18:19:29.271274: I tensorflow/core/kernels/data/shuffle_dataset_op.cc:480] Shuffle buffer filled.\n"
     ]
    },
    {
     "name": "stdout",
     "output_type": "stream",
     "text": [
      "\u001b[1m2/2\u001b[0m \u001b[32m━━━━━━━━━━━━━━━━━━━━\u001b[0m\u001b[37m\u001b[0m \u001b[1m0s\u001b[0m 40s/step - accuracy: 0.4667 - loss: 0.6027   Failed to process file Musimages/ml_dataset/val/6600.mnc: Unable to open file (truncated file: eof = 116391936, sblock->base_addr = 0, stored_eof = 278209322)Failed to process file Musimages/ml_dataset/val/3976.mnc: Unable to open file (truncated file: eof = 200278016, sblock->base_addr = 0, stored_eof = 259843214)\n",
      "\n",
      "Failed to process file Musimages/ml_dataset/val/4437.mnc: Unable to open file (truncated file: eof = 153092096, sblock->base_addr = 0, stored_eof = 239807709)\n",
      "\u001b[1m2/2\u001b[0m \u001b[32m━━━━━━━━━━━━━━━━━━━━\u001b[0m\u001b[37m\u001b[0m \u001b[1m186s\u001b[0m 69s/step - accuracy: 0.5111 - loss: 0.5724 - val_accuracy: 0.5000 - val_loss: 2.5851\n",
      "Epoch 2/10\n"
     ]
    },
    {
     "name": "stderr",
     "output_type": "stream",
     "text": [
      "2024-04-23 18:22:24.540021: I tensorflow/core/kernels/data/shuffle_dataset_op.cc:450] ShuffleDatasetV3:2: Filling up shuffle buffer (this may take a while): 1 of 10\n",
      "2024-04-23 18:22:24.710192: I tensorflow/core/kernels/data/shuffle_dataset_op.cc:480] Shuffle buffer filled.\n"
     ]
    },
    {
     "name": "stdout",
     "output_type": "stream",
     "text": [
      "\u001b[1m2/2\u001b[0m \u001b[32m━━━━━━━━━━━━━━━━━━━━\u001b[0m\u001b[37m\u001b[0m \u001b[1m0s\u001b[0m 41s/step - accuracy: 0.7667 - loss: 3.2387   Failed to process file Musimages/ml_dataset/val/3976.mnc: Unable to open file (truncated file: eof = 200278016, sblock->base_addr = 0, stored_eof = 259843214)Failed to process file Musimages/ml_dataset/val/6600.mnc: Unable to open file (truncated file: eof = 116391936, sblock->base_addr = 0, stored_eof = 278209322)\n",
      "\n",
      "Failed to process file Musimages/ml_dataset/val/4437.mnc: Unable to open file (truncated file: eof = 153092096, sblock->base_addr = 0, stored_eof = 239807709)\n",
      "\u001b[1m2/2\u001b[0m \u001b[32m━━━━━━━━━━━━━━━━━━━━\u001b[0m\u001b[37m\u001b[0m \u001b[1m176s\u001b[0m 69s/step - accuracy: 0.7444 - loss: 3.0686 - val_accuracy: 0.8750 - val_loss: 0.6669\n",
      "Epoch 3/10\n"
     ]
    },
    {
     "name": "stderr",
     "output_type": "stream",
     "text": [
      "2024-04-23 18:25:32.327098: I tensorflow/core/kernels/data/shuffle_dataset_op.cc:450] ShuffleDatasetV3:2: Filling up shuffle buffer (this may take a while): 1 of 10\n",
      "2024-04-23 18:25:32.327145: I tensorflow/core/kernels/data/shuffle_dataset_op.cc:480] Shuffle buffer filled.\n"
     ]
    },
    {
     "name": "stdout",
     "output_type": "stream",
     "text": [
      "\u001b[1m2/2\u001b[0m \u001b[32m━━━━━━━━━━━━━━━━━━━━\u001b[0m\u001b[37m\u001b[0m \u001b[1m0s\u001b[0m 40s/step - accuracy: 0.7667 - loss: 0.6743   Failed to process file Musimages/ml_dataset/val/4437.mnc: Unable to open file (truncated file: eof = 153092096, sblock->base_addr = 0, stored_eof = 239807709)Failed to process file Musimages/ml_dataset/val/6600.mnc: Unable to open file (truncated file: eof = 116391936, sblock->base_addr = 0, stored_eof = 278209322)\n",
      "\n",
      "Failed to process file Musimages/ml_dataset/val/3976.mnc: Unable to open file (truncated file: eof = 200278016, sblock->base_addr = 0, stored_eof = 259843214)\n",
      "\u001b[1m2/2\u001b[0m \u001b[32m━━━━━━━━━━━━━━━━━━━━\u001b[0m\u001b[37m\u001b[0m \u001b[1m187s\u001b[0m 70s/step - accuracy: 0.7444 - loss: 0.6764 - val_accuracy: 0.5000 - val_loss: 0.6947\n",
      "Epoch 4/10\n"
     ]
    },
    {
     "name": "stderr",
     "output_type": "stream",
     "text": [
      "2024-04-23 18:28:18.150821: I tensorflow/core/kernels/data/shuffle_dataset_op.cc:450] ShuffleDatasetV3:2: Filling up shuffle buffer (this may take a while): 1 of 10\n",
      "2024-04-23 18:28:35.752844: I tensorflow/core/kernels/data/shuffle_dataset_op.cc:450] ShuffleDatasetV3:2: Filling up shuffle buffer (this may take a while): 2 of 10\n",
      "2024-04-23 18:28:36.811743: I tensorflow/core/kernels/data/shuffle_dataset_op.cc:480] Shuffle buffer filled.\n"
     ]
    },
    {
     "name": "stdout",
     "output_type": "stream",
     "text": [
      "\u001b[1m2/2\u001b[0m \u001b[32m━━━━━━━━━━━━━━━━━━━━\u001b[0m\u001b[37m\u001b[0m \u001b[1m0s\u001b[0m 39s/step - accuracy: 0.3167 - loss: 0.6945   Failed to process file Musimages/ml_dataset/val/6600.mnc: Unable to open file (truncated file: eof = 116391936, sblock->base_addr = 0, stored_eof = 278209322)Failed to process file Musimages/ml_dataset/val/3976.mnc: Unable to open file (truncated file: eof = 200278016, sblock->base_addr = 0, stored_eof = 259843214)\n",
      "\n",
      "Failed to process file Musimages/ml_dataset/val/4437.mnc: Unable to open file (truncated file: eof = 153092096, sblock->base_addr = 0, stored_eof = 239807709)\n",
      "\u001b[1m2/2\u001b[0m \u001b[32m━━━━━━━━━━━━━━━━━━━━\u001b[0m\u001b[37m\u001b[0m \u001b[1m181s\u001b[0m 67s/step - accuracy: 0.3111 - loss: 0.6944 - val_accuracy: 0.5000 - val_loss: 0.6906\n",
      "Epoch 5/10\n"
     ]
    },
    {
     "name": "stderr",
     "output_type": "stream",
     "text": [
      "2024-04-23 18:31:39.926228: I tensorflow/core/kernels/data/shuffle_dataset_op.cc:450] ShuffleDatasetV3:2: Filling up shuffle buffer (this may take a while): 1 of 10\n",
      "2024-04-23 18:31:40.467428: I tensorflow/core/kernels/data/shuffle_dataset_op.cc:480] Shuffle buffer filled.\n"
     ]
    },
    {
     "name": "stdout",
     "output_type": "stream",
     "text": [
      "\u001b[1m2/2\u001b[0m \u001b[32m━━━━━━━━━━━━━━━━━━━━\u001b[0m\u001b[37m\u001b[0m \u001b[1m0s\u001b[0m 39s/step - accuracy: 0.7667 - loss: 0.6894   Failed to process file Musimages/ml_dataset/val/6600.mnc: Unable to open file (truncated file: eof = 116391936, sblock->base_addr = 0, stored_eof = 278209322)\n",
      "Failed to process file Musimages/ml_dataset/val/4437.mnc: Unable to open file (truncated file: eof = 153092096, sblock->base_addr = 0, stored_eof = 239807709)\n",
      "Failed to process file Musimages/ml_dataset/val/3976.mnc: Unable to open file (truncated file: eof = 200278016, sblock->base_addr = 0, stored_eof = 259843214)\n",
      "\u001b[1m2/2\u001b[0m \u001b[32m━━━━━━━━━━━━━━━━━━━━\u001b[0m\u001b[37m\u001b[0m \u001b[1m183s\u001b[0m 67s/step - accuracy: 0.7444 - loss: 0.6898 - val_accuracy: 0.5000 - val_loss: 0.6837\n",
      "Epoch 6/10\n"
     ]
    },
    {
     "name": "stderr",
     "output_type": "stream",
     "text": [
      "2024-04-23 18:34:27.110477: I tensorflow/core/kernels/data/shuffle_dataset_op.cc:450] ShuffleDatasetV3:2: Filling up shuffle buffer (this may take a while): 1 of 10\n",
      "2024-04-23 18:34:35.473565: I tensorflow/core/kernels/data/shuffle_dataset_op.cc:480] Shuffle buffer filled.\n"
     ]
    },
    {
     "name": "stdout",
     "output_type": "stream",
     "text": [
      "\u001b[1m2/2\u001b[0m \u001b[32m━━━━━━━━━━━━━━━━━━━━\u001b[0m\u001b[37m\u001b[0m \u001b[1m0s\u001b[0m 39s/step - accuracy: 0.6833 - loss: 0.6805   Failed to process file Musimages/ml_dataset/val/3976.mnc: Unable to open file (truncated file: eof = 200278016, sblock->base_addr = 0, stored_eof = 259843214)\n",
      "Failed to process file Musimages/ml_dataset/val/4437.mnc: Unable to open file (truncated file: eof = 153092096, sblock->base_addr = 0, stored_eof = 239807709)\n",
      "Failed to process file Musimages/ml_dataset/val/6600.mnc: Unable to open file (truncated file: eof = 116391936, sblock->base_addr = 0, stored_eof = 278209322)\n",
      "\u001b[1m2/2\u001b[0m \u001b[32m━━━━━━━━━━━━━━━━━━━━\u001b[0m\u001b[37m\u001b[0m \u001b[1m175s\u001b[0m 67s/step - accuracy: 0.6889 - loss: 0.6794 - val_accuracy: 0.5000 - val_loss: 0.6701\n",
      "Epoch 7/10\n"
     ]
    },
    {
     "name": "stderr",
     "output_type": "stream",
     "text": [
      "2024-04-23 18:37:23.852943: I tensorflow/core/kernels/data/shuffle_dataset_op.cc:450] ShuffleDatasetV3:2: Filling up shuffle buffer (this may take a while): 1 of 10\n",
      "2024-04-23 18:37:30.089411: I tensorflow/core/kernels/data/shuffle_dataset_op.cc:480] Shuffle buffer filled.\n"
     ]
    },
    {
     "name": "stdout",
     "output_type": "stream",
     "text": [
      "\u001b[1m2/2\u001b[0m \u001b[32m━━━━━━━━━━━━━━━━━━━━\u001b[0m\u001b[37m\u001b[0m \u001b[1m0s\u001b[0m 40s/step - accuracy: 0.6833 - loss: 0.6634   Failed to process file Musimages/ml_dataset/val/6600.mnc: Unable to open file (truncated file: eof = 116391936, sblock->base_addr = 0, stored_eof = 278209322)Failed to process file Musimages/ml_dataset/val/4437.mnc: Unable to open file (truncated file: eof = 153092096, sblock->base_addr = 0, stored_eof = 239807709)\n",
      "\n",
      "Failed to process file Musimages/ml_dataset/val/3976.mnc: Unable to open file (truncated file: eof = 200278016, sblock->base_addr = 0, stored_eof = 259843214)\n",
      "\u001b[1m2/2\u001b[0m \u001b[32m━━━━━━━━━━━━━━━━━━━━\u001b[0m\u001b[37m\u001b[0m \u001b[1m175s\u001b[0m 67s/step - accuracy: 0.6889 - loss: 0.6609 - val_accuracy: 0.5000 - val_loss: 0.6288\n",
      "Epoch 8/10\n"
     ]
    },
    {
     "name": "stderr",
     "output_type": "stream",
     "text": [
      "2024-04-23 18:40:30.002512: I tensorflow/core/kernels/data/shuffle_dataset_op.cc:450] ShuffleDatasetV3:2: Filling up shuffle buffer (this may take a while): 1 of 10\n",
      "2024-04-23 18:40:31.190762: I tensorflow/core/kernels/data/shuffle_dataset_op.cc:480] Shuffle buffer filled.\n"
     ]
    },
    {
     "name": "stdout",
     "output_type": "stream",
     "text": [
      "\u001b[1m2/2\u001b[0m \u001b[32m━━━━━━━━━━━━━━━━━━━━\u001b[0m\u001b[37m\u001b[0m \u001b[1m0s\u001b[0m 39s/step - accuracy: 0.7667 - loss: 0.6222   Failed to process file Musimages/ml_dataset/val/4437.mnc: Unable to open file (truncated file: eof = 153092096, sblock->base_addr = 0, stored_eof = 239807709)\n",
      "Failed to process file Musimages/ml_dataset/val/3976.mnc: Unable to open file (truncated file: eof = 200278016, sblock->base_addr = 0, stored_eof = 259843214)\n",
      "Failed to process file Musimages/ml_dataset/val/6600.mnc: Unable to open file (truncated file: eof = 116391936, sblock->base_addr = 0, stored_eof = 278209322)\n",
      "\u001b[1m2/2\u001b[0m \u001b[32m━━━━━━━━━━━━━━━━━━━━\u001b[0m\u001b[37m\u001b[0m \u001b[1m180s\u001b[0m 67s/step - accuracy: 0.7444 - loss: 0.6356 - val_accuracy: 0.5000 - val_loss: 0.5956\n",
      "Epoch 9/10\n"
     ]
    },
    {
     "name": "stderr",
     "output_type": "stream",
     "text": [
      "2024-04-23 18:43:24.080814: I tensorflow/core/kernels/data/shuffle_dataset_op.cc:450] ShuffleDatasetV3:2: Filling up shuffle buffer (this may take a while): 1 of 10\n",
      "2024-04-23 18:43:27.386372: I tensorflow/core/kernels/data/shuffle_dataset_op.cc:480] Shuffle buffer filled.\n"
     ]
    },
    {
     "name": "stdout",
     "output_type": "stream",
     "text": [
      "\u001b[1m2/2\u001b[0m \u001b[32m━━━━━━━━━━━━━━━━━━━━\u001b[0m\u001b[37m\u001b[0m \u001b[1m0s\u001b[0m 39s/step - accuracy: 0.7667 - loss: 0.5792   Failed to process file Musimages/ml_dataset/val/4437.mnc: Unable to open file (truncated file: eof = 153092096, sblock->base_addr = 0, stored_eof = 239807709)\n",
      "Failed to process file Musimages/ml_dataset/val/6600.mnc: Unable to open file (truncated file: eof = 116391936, sblock->base_addr = 0, stored_eof = 278209322)\n",
      "Failed to process file Musimages/ml_dataset/val/3976.mnc: Unable to open file (truncated file: eof = 200278016, sblock->base_addr = 0, stored_eof = 259843214)\n",
      "\u001b[1m2/2\u001b[0m \u001b[32m━━━━━━━━━━━━━━━━━━━━\u001b[0m\u001b[37m\u001b[0m \u001b[1m176s\u001b[0m 67s/step - accuracy: 0.7444 - loss: 0.6031 - val_accuracy: 0.5000 - val_loss: 0.6063\n",
      "Epoch 10/10\n"
     ]
    },
    {
     "name": "stderr",
     "output_type": "stream",
     "text": [
      "2024-04-23 18:46:16.589188: I tensorflow/core/kernels/data/shuffle_dataset_op.cc:450] ShuffleDatasetV3:2: Filling up shuffle buffer (this may take a while): 1 of 10\n",
      "2024-04-23 18:46:22.306405: I tensorflow/core/kernels/data/shuffle_dataset_op.cc:480] Shuffle buffer filled.\n"
     ]
    },
    {
     "name": "stdout",
     "output_type": "stream",
     "text": [
      "\u001b[1m2/2\u001b[0m \u001b[32m━━━━━━━━━━━━━━━━━━━━\u001b[0m\u001b[37m\u001b[0m \u001b[1m0s\u001b[0m 40s/step - accuracy: 0.7667 - loss: 0.5653   Failed to process file Musimages/ml_dataset/val/6600.mnc: Unable to open file (truncated file: eof = 116391936, sblock->base_addr = 0, stored_eof = 278209322)\n",
      "Failed to process file Musimages/ml_dataset/val/4437.mnc: Unable to open file (truncated file: eof = 153092096, sblock->base_addr = 0, stored_eof = 239807709)\n",
      "Failed to process file Musimages/ml_dataset/val/3976.mnc: Unable to open file (truncated file: eof = 200278016, sblock->base_addr = 0, stored_eof = 259843214)\n",
      "\u001b[1m2/2\u001b[0m \u001b[32m━━━━━━━━━━━━━━━━━━━━\u001b[0m\u001b[37m\u001b[0m \u001b[1m176s\u001b[0m 67s/step - accuracy: 0.7444 - loss: 0.5911 - val_accuracy: 0.5000 - val_loss: 0.6226\n"
     ]
    }
   ],
   "source": [
    "# Define callbacks and ModelCheckpoint\n",
    "early_stopping = EarlyStopping(monitor='val_loss', patience=5)\n",
    "model_checkpoint = ModelCheckpoint(filepath=base_dir + '/best_model.keras', save_best_only=True)\n",
    "\n",
    "history = model_manager.train(\n",
    "    train_data=train_dataset,\n",
    "    validation_data=validation_dataset,\n",
    "    epochs=10,\n",
    "    batch_size=6,\n",
    "    callbacks=[early_stopping, model_checkpoint]\n",
    ")\n"
   ]
  },
  {
   "cell_type": "code",
   "execution_count": 7,
   "id": "8f41b833-5379-4e4f-b68b-0e87f1674c23",
   "metadata": {},
   "outputs": [
    {
     "data": {
      "image/png": "[encoded data removed]",
      "text/plain": [
       "<Figure size 1800x800 with 2 Axes>"
      ]
     },
     "metadata": {},
     "output_type": "display_data"
    }
   ],
   "source": [
    "acc = history.history['accuracy']\n",
    "val_acc = history.history['val_accuracy']\n",
    "loss = history.history['loss']\n",
    "val_loss = history.history['val_loss']\n",
    "epochs = len(acc)\n",
    "epochs_range = range(epochs)\n",
    "plt.figure(figsize=(18, 8))\n",
    "\n",
    "plt.subplot(1, 2, 1)\n",
    "plt.plot(epochs_range, acc, label='Training Accuracy')\n",
    "plt.plot(epochs_range, val_acc, label='Validation Accuracy')\n",
    "plt.legend(loc='lower right')\n",
    "plt.title('Training and Validation Accuracy')\n",
    "\n",
    "plt.subplot(1, 2, 2)\n",
    "plt.plot(epochs_range, loss, label='Training Loss')\n",
    "plt.plot(epochs_range, val_loss, label='Validation Loss')\n",
    "plt.legend(loc='upper right')\n",
    "plt.title('Training and Validation Loss')\n",
    "\n",
    "plt.show()"
   ]
  },
  {
   "cell_type": "code",
   "execution_count": 6,
   "id": "b9b71457-1c4f-4f7c-8cea-e6a94c3a26f3",
   "metadata": {},
   "outputs": [],
   "source": [
    "model_path = 'Musimages/ml_dataset/best_model.keras'\n",
    "\n",
    "# Load the model\n",
    "model_manager = load_model(model_path)\n"
   ]
  },
  {
   "cell_type": "code",
   "execution_count": 8,
   "id": "170aa646-f7d9-4723-bebd-a6ee79b33a14",
   "metadata": {},
   "outputs": [
    {
     "name": "stdout",
     "output_type": "stream",
     "text": [
      "\u001b[1m2/2\u001b[0m \u001b[32m━━━━━━━━━━━━━━━━━━━━\u001b[0m\u001b[37m\u001b[0m \u001b[1m51s\u001b[0m 2s/step - accuracy: 0.6111 - loss: 0.6402\n",
      "Test Loss: 0.5671607851982117, Test Accuracy: 0.6666666865348816\n",
      "Test Loss: 0.5671607851982117, Test Accuracy: 0.6666666865348816\n"
     ]
    }
   ],
   "source": [
    "# Evaluate the model on test data\n",
    "test_loss, test_accuracy = model_manager.evaluate(test_dataset)\n",
    "print(f\"Test Loss: {test_loss}, Test Accuracy: {test_accuracy}\")"
   ]
  },
  {
   "cell_type": "code",
   "execution_count": null,
   "id": "921df436-e863-4e56-aa77-9ca632147f7e",
   "metadata": {},
   "outputs": [],
   "source": [
    "# Optionally, make predictions\n",
    "# predictions = model_manager.predict(new_data)  # Assume new_data is ready"
   ]
  }
 ],
 "metadata": {
  "kernelspec": {
   "display_name": "Python 3 (ipykernel)",
   "language": "python",
   "name": "python3"
  },
  "language_info": {
   "codemirror_mode": {
    "name": "ipython",
    "version": 3
   },
   "file_extension": ".py",
   "mimetype": "text/x-python",
   "name": "python",
   "nbconvert_exporter": "python",
   "pygments_lexer": "ipython3",
   "version": "3.11.7"
  }
 },
 "nbformat": 4,
 "nbformat_minor": 5
}
